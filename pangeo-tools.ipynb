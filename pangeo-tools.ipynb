{
 "cells": [
  {
   "cell_type": "markdown",
   "metadata": {
    "cell_style": "center",
    "slideshow": {
     "slide_type": "slide"
    }
   },
   "source": [
    "<center>\n",
    "\n",
    "<div style=\"text-align:center\"><img src=\"_static/small_e_logo_cropped.png\" width=\"40%\" /></div>\n",
    "<div style=\"text-align:center\"><img src=\"_static/pangeo_simple_logo.png\" width=\"175px\" /></div>\n",
    "</center>\n",
    "\n",
    "Pangeo Tools\n",
    "===========\n",
    "\n",
    "\n",
    "\n",
    "\n",
    "A brief overview of the ecosystem of tools used by the [Pangeo Project](http://pangeo.io/)."
   ]
  },
  {
   "cell_type": "code",
   "execution_count": 42,
   "metadata": {},
   "outputs": [
    {
     "data": {
      "text/plain": [
       "<xarray.core.options.set_options at 0x1191ae978>"
      ]
     },
     "execution_count": 42,
     "metadata": {},
     "output_type": "execute_result"
    }
   ],
   "source": [
    "import numpy as np\n",
    "import xarray as xr\n",
    "\n",
    "np.set_printoptions(precision=4, threshold=5)\n",
    "\n",
    "xr.set_options(display_width=80)"
   ]
  },
  {
   "cell_type": "markdown",
   "metadata": {
    "slideshow": {
     "slide_type": "subslide"
    }
   },
   "source": [
    "### Pangeo is:\n",
    "\n",
    "- a community promoting open, reproducible, and scalable science.\n",
    "- an integrated ecosystem of open source software tools.\n",
    "- a community platform for Big Data Geoscience."
   ]
  },
  {
   "cell_type": "markdown",
   "metadata": {
    "slideshow": {
     "slide_type": "subslide"
    }
   },
   "source": [
    "### Where to find Pangeo:\n",
    "\n",
    "- Online: http://pangeo.io/\n",
    "- GitHub: https://github.com/pangeo-data/\n",
    "- Discourse: https://discourse.pangeo.io/"
   ]
  },
  {
   "cell_type": "markdown",
   "metadata": {
    "slideshow": {
     "slide_type": "slide"
    }
   },
   "source": [
    "<div style=\"text-align:center\"><img src=\"_static/scientific_python_eco.png\" width=\"100%\" /></div>\n"
   ]
  },
  {
   "cell_type": "markdown",
   "metadata": {
    "slideshow": {
     "slide_type": "slide"
    }
   },
   "source": [
    "## The Basics\n",
    "\n",
    "NumPy / SciPy / Pandas/ Jupyter\n"
   ]
  },
  {
   "cell_type": "markdown",
   "metadata": {
    "cell_style": "split",
    "slideshow": {
     "slide_type": "subslide"
    }
   },
   "source": [
    "### NumPy\n",
    "\n",
    "NumPy is the fundamental package for scientific computing with Python. It contains among other things:\n",
    "\n",
    "- a powerful N-dimensional array object\n",
    "- sophisticated (broadcasting) functions\n",
    "- tools for integrating C/C++ and Fortran code\n",
    "- useful linear algebra, Fourier transform, and random number capabilities"
   ]
  },
  {
   "cell_type": "code",
   "execution_count": 8,
   "metadata": {
    "cell_style": "split",
    "slideshow": {
     "slide_type": "subslide"
    }
   },
   "outputs": [
    {
     "data": {
      "text/plain": [
       "array([2., 2., 2., 2.])"
      ]
     },
     "execution_count": 8,
     "metadata": {},
     "output_type": "execute_result"
    }
   ],
   "source": [
    "import numpy as np\n",
    "\n",
    "x = np.ones((4, 2))\n",
    "x.sum(axis=1)"
   ]
  },
  {
   "cell_type": "code",
   "execution_count": null,
   "metadata": {
    "slideshow": {
     "slide_type": "notes"
    }
   },
   "outputs": [],
   "source": []
  },
  {
   "cell_type": "markdown",
   "metadata": {
    "cell_style": "split",
    "slideshow": {
     "slide_type": "subslide"
    }
   },
   "source": [
    "### SciPy\n",
    "\n",
    "SciPy is a collection of mathematical algorithms and convenience functions built on the NumPy extension of Python. It contains subpackages that cover:\n",
    "\n",
    "- clustering\n",
    "- FFTs\n",
    "- interpolation\n",
    "- linear algebra\n",
    "- singal processing\n",
    "- stats\n",
    "- optimization"
   ]
  },
  {
   "cell_type": "code",
   "execution_count": 10,
   "metadata": {
    "cell_style": "split",
    "slideshow": {
     "slide_type": "subslide"
    }
   },
   "outputs": [
    {
     "ename": "ModuleNotFoundError",
     "evalue": "No module named 'scipy'",
     "output_type": "error",
     "traceback": [
      "\u001b[0;31m---------------------------------------------------------------------------\u001b[0m",
      "\u001b[0;31mModuleNotFoundError\u001b[0m                       Traceback (most recent call last)",
      "\u001b[0;32m<ipython-input-10-92839ee9915b>\u001b[0m in \u001b[0;36m<module>\u001b[0;34m\u001b[0m\n\u001b[0;32m----> 1\u001b[0;31m \u001b[0;32mfrom\u001b[0m \u001b[0mscipy\u001b[0m \u001b[0;32mimport\u001b[0m \u001b[0mspatial\u001b[0m\u001b[0;34m\u001b[0m\u001b[0;34m\u001b[0m\u001b[0m\n\u001b[0m\u001b[1;32m      2\u001b[0m \u001b[0mx\u001b[0m\u001b[0;34m,\u001b[0m \u001b[0my\u001b[0m \u001b[0;34m=\u001b[0m \u001b[0mnp\u001b[0m\u001b[0;34m.\u001b[0m\u001b[0mmgrid\u001b[0m\u001b[0;34m[\u001b[0m\u001b[0;36m0\u001b[0m\u001b[0;34m:\u001b[0m\u001b[0;36m5\u001b[0m\u001b[0;34m,\u001b[0m \u001b[0;36m2\u001b[0m\u001b[0;34m:\u001b[0m\u001b[0;36m8\u001b[0m\u001b[0;34m]\u001b[0m\u001b[0;34m\u001b[0m\u001b[0;34m\u001b[0m\u001b[0m\n\u001b[1;32m      3\u001b[0m \u001b[0mtree\u001b[0m \u001b[0;34m=\u001b[0m \u001b[0mspatial\u001b[0m\u001b[0;34m.\u001b[0m\u001b[0mKDTree\u001b[0m\u001b[0;34m(\u001b[0m\u001b[0mlist\u001b[0m\u001b[0;34m(\u001b[0m\u001b[0mzip\u001b[0m\u001b[0;34m(\u001b[0m\u001b[0mx\u001b[0m\u001b[0;34m.\u001b[0m\u001b[0mravel\u001b[0m\u001b[0;34m(\u001b[0m\u001b[0;34m)\u001b[0m\u001b[0;34m,\u001b[0m \u001b[0my\u001b[0m\u001b[0;34m.\u001b[0m\u001b[0mravel\u001b[0m\u001b[0;34m(\u001b[0m\u001b[0;34m)\u001b[0m\u001b[0;34m)\u001b[0m\u001b[0;34m)\u001b[0m\u001b[0;34m)\u001b[0m\u001b[0;34m\u001b[0m\u001b[0;34m\u001b[0m\u001b[0m\n\u001b[1;32m      4\u001b[0m \u001b[0mpts\u001b[0m \u001b[0;34m=\u001b[0m \u001b[0mnp\u001b[0m\u001b[0;34m.\u001b[0m\u001b[0marray\u001b[0m\u001b[0;34m(\u001b[0m\u001b[0;34m[\u001b[0m\u001b[0;34m[\u001b[0m\u001b[0;36m0\u001b[0m\u001b[0;34m,\u001b[0m \u001b[0;36m0\u001b[0m\u001b[0;34m]\u001b[0m\u001b[0;34m,\u001b[0m \u001b[0;34m[\u001b[0m\u001b[0;36m2.1\u001b[0m\u001b[0;34m,\u001b[0m \u001b[0;36m2.9\u001b[0m\u001b[0;34m]\u001b[0m\u001b[0;34m]\u001b[0m\u001b[0;34m)\u001b[0m\u001b[0;34m\u001b[0m\u001b[0;34m\u001b[0m\u001b[0m\n\u001b[1;32m      5\u001b[0m \u001b[0mtree\u001b[0m\u001b[0;34m.\u001b[0m\u001b[0mquery\u001b[0m\u001b[0;34m(\u001b[0m\u001b[0mpts\u001b[0m\u001b[0;34m)\u001b[0m\u001b[0;34m\u001b[0m\u001b[0;34m\u001b[0m\u001b[0m\n",
      "\u001b[0;31mModuleNotFoundError\u001b[0m: No module named 'scipy'"
     ]
    }
   ],
   "source": [
    "from scipy import spatial\n",
    "x, y = np.mgrid[0:5, 2:8]\n",
    "tree = spatial.KDTree(list(zip(x.ravel(), y.ravel())))\n",
    "pts = np.array([[0, 0], [2.1, 2.9]])\n",
    "tree.query(pts)\n",
    "\n",
    "tree.query(pts[0])"
   ]
  },
  {
   "cell_type": "code",
   "execution_count": null,
   "metadata": {
    "slideshow": {
     "slide_type": "notes"
    }
   },
   "outputs": [],
   "source": []
  },
  {
   "cell_type": "code",
   "execution_count": 22,
   "metadata": {},
   "outputs": [],
   "source": [
    "%matplotlib inline"
   ]
  },
  {
   "cell_type": "markdown",
   "metadata": {
    "cell_style": "split",
    "slideshow": {
     "slide_type": "subslide"
    }
   },
   "source": [
    "### Pandas\n",
    "\n",
    "Pandas is a Python package providing fast, flexible, and expressive data structures designed to make working with “relational” or “labeled” data both easy and intuitive. Pandas is well suited for:\n",
    "\n",
    "- Tabular data types (see `Series` and `DataFrame` objects)\n",
    "- Timeseries data manipulation like resampling\n",
    "- Database-like operations like aligning, merging, joining, reshaping, and grouping"
   ]
  },
  {
   "cell_type": "code",
   "execution_count": 24,
   "metadata": {
    "cell_style": "split",
    "slideshow": {
     "slide_type": "subslide"
    }
   },
   "outputs": [
    {
     "data": {
      "text/html": [
       "<div>\n",
       "<style scoped>\n",
       "    .dataframe tbody tr th:only-of-type {\n",
       "        vertical-align: middle;\n",
       "    }\n",
       "\n",
       "    .dataframe tbody tr th {\n",
       "        vertical-align: top;\n",
       "    }\n",
       "\n",
       "    .dataframe thead th {\n",
       "        text-align: right;\n",
       "    }\n",
       "</style>\n",
       "<table border=\"1\" class=\"dataframe\">\n",
       "  <thead>\n",
       "    <tr style=\"text-align: right;\">\n",
       "      <th></th>\n",
       "      <th>tasmin_day_CESM1-BGC_rcp85</th>\n",
       "      <th>tasmax_day_CESM1-BGC_rcp85</th>\n",
       "    </tr>\n",
       "    <tr>\n",
       "      <th>time</th>\n",
       "      <th></th>\n",
       "      <th></th>\n",
       "    </tr>\n",
       "  </thead>\n",
       "  <tbody>\n",
       "    <tr>\n",
       "      <td>2006-01-01 00:00:00+00:00</td>\n",
       "      <td>276.406952</td>\n",
       "      <td>282.237305</td>\n",
       "    </tr>\n",
       "    <tr>\n",
       "      <td>2006-01-02 00:00:00+00:00</td>\n",
       "      <td>273.133514</td>\n",
       "      <td>282.225494</td>\n",
       "    </tr>\n",
       "    <tr>\n",
       "      <td>2006-01-03 00:00:00+00:00</td>\n",
       "      <td>272.838989</td>\n",
       "      <td>284.240356</td>\n",
       "    </tr>\n",
       "    <tr>\n",
       "      <td>2006-01-04 00:00:00+00:00</td>\n",
       "      <td>279.459961</td>\n",
       "      <td>285.666504</td>\n",
       "    </tr>\n",
       "    <tr>\n",
       "      <td>2006-01-05 00:00:00+00:00</td>\n",
       "      <td>278.907623</td>\n",
       "      <td>285.405121</td>\n",
       "    </tr>\n",
       "  </tbody>\n",
       "</table>\n",
       "</div>"
      ],
      "text/plain": [
       "                           tasmin_day_CESM1-BGC_rcp85  \\\n",
       "time                                                    \n",
       "2006-01-01 00:00:00+00:00                  276.406952   \n",
       "2006-01-02 00:00:00+00:00                  273.133514   \n",
       "2006-01-03 00:00:00+00:00                  272.838989   \n",
       "2006-01-04 00:00:00+00:00                  279.459961   \n",
       "2006-01-05 00:00:00+00:00                  278.907623   \n",
       "\n",
       "                           tasmax_day_CESM1-BGC_rcp85  \n",
       "time                                                   \n",
       "2006-01-01 00:00:00+00:00                  282.237305  \n",
       "2006-01-02 00:00:00+00:00                  282.225494  \n",
       "2006-01-03 00:00:00+00:00                  284.240356  \n",
       "2006-01-04 00:00:00+00:00                  285.666504  \n",
       "2006-01-05 00:00:00+00:00                  285.405121  "
      ]
     },
     "metadata": {},
     "output_type": "display_data"
    },
    {
     "data": {
      "text/plain": [
       "<matplotlib.axes._subplots.AxesSubplot at 0x1189a4e48>"
      ]
     },
     "execution_count": 24,
     "metadata": {},
     "output_type": "execute_result"
    },
    {
     "data": {
      "image/png": "[encoded data removed]",
      "text/plain": [
       "<Figure size 432x288 with 1 Axes>"
      ]
     },
     "metadata": {
      "needs_background": "light"
     },
     "output_type": "display_data"
    }
   ],
   "source": [
    "import pandas as pd\n",
    "\n",
    "df = pd.read_csv('./data/chico_temperature.csv', index_col=0, parse_dates=True)\n",
    "display(df.head())\n",
    "df.resample('AS').max().plot()"
   ]
  },
  {
   "cell_type": "markdown",
   "metadata": {
    "slideshow": {
     "slide_type": "slide"
    }
   },
   "source": [
    "## Jupyter"
   ]
  },
  {
   "cell_type": "code",
   "execution_count": null,
   "metadata": {
    "slideshow": {
     "slide_type": "subslide"
    }
   },
   "outputs": [],
   "source": []
  },
  {
   "cell_type": "markdown",
   "metadata": {
    "slideshow": {
     "slide_type": "slide"
    }
   },
   "source": [
    "## Xarray\n",
    "\n",
    "<!-- <div style=\"text-align:center\"><img src=\"_static/dataset-diagram.png\" width=\"50%\" /></div> -->\n",
    "<img src=\"_static/dataset-diagram.png\" align=\"right\" width=66% alt=\"Xarray Dataset\">\n",
    "\n",
    "\n",
    "Xarray is a Python library that provides data structures and tools for working with multidimensional labeled datasets and arrays. Xarray enables users to perform operations on complex datasets making it a powerful high-level tool for data analysis. \n",
    "\n",
    "- Inspired by Pandas and NetCDF\n",
    "- Labeled N-Dimensional data structures (`DataArray` and `Dataset`)\n",
    "- Toolkit for data manipulation and visualization\n",
    "- Integrates with scientific Python ecosystem (Pandas/Matplotlib/Dask/etc)\n",
    "- Backend support for a wide range of ND data formats (NetCDF, GRIB, Raster, Zarr)\n"
   ]
  },
  {
   "cell_type": "markdown",
   "metadata": {
    "slideshow": {
     "slide_type": "subslide"
    }
   },
   "source": [
    "#### xarray.Dataset"
   ]
  },
  {
   "cell_type": "code",
   "execution_count": 43,
   "metadata": {
    "slideshow": {
     "slide_type": "fragment"
    }
   },
   "outputs": [
    {
     "data": {
      "text/plain": [
       "<xarray.Dataset>\n",
       "Dimensions:  (lat: 25, lon: 53, time: 2920)\n",
       "Coordinates:\n",
       "  * lat      (lat) float32 75.0 72.5 70.0 67.5 65.0 ... 25.0 22.5 20.0 17.5 15.0\n",
       "  * lon      (lon) float32 200.0 202.5 205.0 207.5 ... 322.5 325.0 327.5 330.0\n",
       "  * time     (time) datetime64[ns] 2013-01-01 ... 2014-12-31T18:00:00\n",
       "Data variables:\n",
       "    air      (time, lat, lon) float32 241.2 242.5 243.5 ... 296.49 296.19 295.69\n",
       "Attributes:\n",
       "    Conventions:  COARDS\n",
       "    title:        4x daily NMC reanalysis (1948)\n",
       "    description:  Data is from NMC initialized reanalysis\\n(4x/day).  These a...\n",
       "    platform:     Model\n",
       "    references:   http://www.esrl.noaa.gov/psd/data/gridded/data.ncep.reanaly..."
      ]
     },
     "execution_count": 43,
     "metadata": {},
     "output_type": "execute_result"
    }
   ],
   "source": [
    "import xarray as xr\n",
    "ds = xr.tutorial.load_dataset('air_temperature')\n",
    "ds"
   ]
  },
  {
   "cell_type": "markdown",
   "metadata": {
    "slideshow": {
     "slide_type": "subslide"
    }
   },
   "source": [
    "#### xarray.DataArray"
   ]
  },
  {
   "cell_type": "code",
   "execution_count": 44,
   "metadata": {
    "slideshow": {
     "slide_type": "fragment"
    }
   },
   "outputs": [
    {
     "data": {
      "text/plain": [
       "<xarray.DataArray 'air' ()>\n",
       "array(265.6, dtype=float32)\n",
       "Coordinates:\n",
       "    lat      float32 62.5\n",
       "    lon      float32 225.0\n",
       "    time     datetime64[ns] 2013-01-01T18:00:00\n",
       "Attributes:\n",
       "    long_name:     4xDaily Air temperature at sigma level 995\n",
       "    units:         degK\n",
       "    precision:     2\n",
       "    GRIB_id:       11\n",
       "    GRIB_name:     TMP\n",
       "    var_desc:      Air temperature\n",
       "    dataset:       NMC Reanalysis\n",
       "    level_desc:    Surface\n",
       "    statistic:     Individual Obs\n",
       "    parent_stat:   Other\n",
       "    actual_range:  [185.16 322.1 ]"
      ]
     },
     "execution_count": 44,
     "metadata": {},
     "output_type": "execute_result"
    }
   ],
   "source": [
    "da = ds['air']\n",
    "\n",
    "da.isel(time=0, lat=5, lon=10)  # select using integer index\n",
    "da.sel(time='2013-01-01T18:00:00', lat=62.5, lon=225.0)  # select based on label"
   ]
  },
  {
   "cell_type": "code",
   "execution_count": 48,
   "metadata": {
    "slideshow": {
     "slide_type": "subslide"
    }
   },
   "outputs": [
    {
     "data": {
      "text/plain": [
       "<xarray.DataArray 'air' (time: 24, lat: 25, lon: 53, month: 12)>\n",
       "array([[[[-1.8830e+00, -2.2104e+00, -6.5648e+00, ..., -1.7347e+01,\n",
       "          -9.2780e+00, -3.5042e+00],\n",
       "         [-1.7224e+00, -1.7421e+00, -6.0161e+00, ..., -1.6549e+01,\n",
       "          -8.9813e+00, -3.3574e+00],\n",
       "         [-1.5447e+00, -1.2780e+00, -5.5191e+00, ..., -1.5833e+01,\n",
       "          -8.8267e+00, -3.2425e+00],\n",
       "         ...,\n",
       "         [-5.6949e-01,  6.3316e-01,  2.9770e-01, ..., -5.7018e+00,\n",
       "          -4.6909e-01,  2.7198e+00],\n",
       "         [-6.8140e-01,  4.0443e-01,  2.9169e-01, ..., -5.6635e+00,\n",
       "          -5.2806e-01,  2.3827e+00],\n",
       "         [-9.7075e-01,  2.3210e-01,  3.6635e-01, ..., -5.7403e+00,\n",
       "          -4.6614e-01,  2.0477e+00]],\n",
       "\n",
       "        [[-1.7842e+00, -7.2672e-01, -5.8986e+00, ..., -2.1949e+01,\n",
       "          -1.2056e+01, -2.6601e+00],\n",
       "         [-1.8847e+00, -7.3734e-01, -5.8436e+00, ..., -2.1907e+01,\n",
       "          -1.1607e+01, -3.1377e+00],\n",
       "         [-1.9828e+00, -7.4989e-01, -5.8459e+00, ..., -2.1987e+01,\n",
       "          -1.1464e+01, -3.7581e+00],\n",
       "         ...,\n",
       "         [-9.4641e-01, -6.4835e-02, -1.0287e+00, ..., -5.8333e+00,\n",
       "          -1.2671e+00,  1.7926e+00],\n",
       "         [-1.4636e+00, -2.2121e-01, -9.7995e-01, ..., -6.1233e+00,\n",
       "          -1.0347e+00,  1.0804e+00],\n",
       "         [-2.0473e+00, -3.5913e-01, -6.7448e-01, ..., -6.4416e+00,\n",
       "          -7.5894e-01,  5.9126e-01]],\n",
       "\n",
       "        [[-1.1976e+00,  1.3087e+00, -4.0881e+00, ..., -1.9261e+01,\n",
       "          -1.0663e+01, -1.6500e+00],\n",
       "         [-1.3616e+00,  1.2626e+00, -4.2565e+00, ..., -1.8961e+01,\n",
       "          -9.0004e+00, -1.6962e+00],\n",
       "         [-1.6069e+00,  1.1650e+00, -4.5267e+00, ..., -1.9347e+01,\n",
       "          -8.4044e+00, -2.2586e+00],\n",
       "         ...,\n",
       "         [-1.4143e+00, -4.4421e-01,  3.1271e-01, ..., -4.0276e+00,\n",
       "          -3.9783e-01,  3.9090e+00],\n",
       "         [-2.0173e+00, -5.6622e-01,  2.7066e-01, ..., -4.8502e+00,\n",
       "          -3.6938e-01,  2.8544e+00],\n",
       "         [-2.5605e+00, -7.1741e-01,  2.6268e-01, ..., -5.6908e+00,\n",
       "          -5.1854e-01,  1.9354e+00]],\n",
       "\n",
       "        ...,\n",
       "\n",
       "        [[-1.2268e-02, -9.1034e-02,  1.8158e-01, ..., -3.2591e+00,\n",
       "          -2.0045e+00, -9.2706e-01],\n",
       "         [-9.3292e-02, -2.6712e-01, -9.4910e-02, ..., -3.1537e+00,\n",
       "          -1.9897e+00, -8.2574e-01],\n",
       "         [-3.0396e-01, -2.4319e-01, -3.0179e-01, ..., -3.0715e+00,\n",
       "          -2.0647e+00, -9.6616e-01],\n",
       "         ...,\n",
       "         [ 1.8198e-01,  9.2386e-01,  6.0202e-01, ..., -3.7263e+00,\n",
       "          -2.6006e+00, -1.0876e+00],\n",
       "         [ 2.2726e-01,  1.1028e+00,  7.2031e-01, ..., -3.8110e+00,\n",
       "          -2.6843e+00, -1.2069e+00],\n",
       "         [ 2.1976e-01,  1.0857e+00,  5.9546e-01, ..., -4.0265e+00,\n",
       "          -2.8929e+00, -1.3893e+00]],\n",
       "\n",
       "        [[-7.5165e-02, -3.1818e-01, -2.3352e-01, ..., -2.9621e+00,\n",
       "          -2.1182e+00, -9.9869e-01],\n",
       "         [-1.5298e-01, -3.1766e-01, -3.7070e-01, ..., -2.9216e+00,\n",
       "          -2.1033e+00, -1.0634e+00],\n",
       "         [-3.1201e-01, -3.0908e-01, -5.3448e-01, ..., -2.8895e+00,\n",
       "          -2.1209e+00, -1.1962e+00],\n",
       "         ...,\n",
       "         [ 2.3163e-01,  1.0758e+00,  7.3682e-01, ..., -3.6714e+00,\n",
       "          -2.5765e+00, -1.2679e+00],\n",
       "         [ 2.5934e-01,  1.1226e+00,  7.7032e-01, ..., -3.9481e+00,\n",
       "          -2.8533e+00, -1.5060e+00],\n",
       "         [ 3.3539e-01,  1.1627e+00,  7.1326e-01, ..., -4.1707e+00,\n",
       "          -3.0428e+00, -1.6559e+00]],\n",
       "\n",
       "        [[-1.0107e-01, -2.3581e-01, -3.2858e-01, ..., -2.3174e+00,\n",
       "          -1.7582e+00, -8.2758e-01],\n",
       "         [-1.9641e-01, -1.7468e-01, -4.2139e-01, ..., -2.3828e+00,\n",
       "          -1.8147e+00, -9.4479e-01],\n",
       "         [-3.1384e-01, -1.2292e-01, -4.9158e-01, ..., -2.4209e+00,\n",
       "          -1.8858e+00, -1.0402e+00],\n",
       "         ...,\n",
       "         [ 2.8638e-01,  1.1437e+00,  9.6939e-01, ..., -3.4196e+00,\n",
       "          -2.4251e+00, -1.2958e+00],\n",
       "         [ 3.2162e-01,  1.1415e+00,  9.8618e-01, ..., -3.5658e+00,\n",
       "          -2.6544e+00, -1.4680e+00],\n",
       "         [ 4.0231e-01,  1.1590e+00,  1.0224e+00, ..., -3.7233e+00,\n",
       "          -2.7799e+00, -1.4986e+00]]],\n",
       "\n",
       "\n",
       "       [[[-5.6159e+00, -5.9432e+00, -1.0298e+01, ..., -2.1080e+01,\n",
       "          -1.3011e+01, -7.2370e+00],\n",
       "         [-5.6846e+00, -5.7043e+00, -9.9784e+00, ..., -2.0511e+01,\n",
       "          -1.2944e+01, -7.3197e+00],\n",
       "         [-5.8034e+00, -5.5368e+00, -9.7779e+00, ..., -2.0092e+01,\n",
       "          -1.3085e+01, -7.5013e+00],\n",
       "         ...,\n",
       "         [-1.4557e+00, -2.5308e-01, -5.8855e-01, ..., -6.5881e+00,\n",
       "          -1.3553e+00,  1.8335e+00],\n",
       "         [-1.3678e+00, -2.8201e-01, -3.9476e-01, ..., -6.3499e+00,\n",
       "          -1.2145e+00,  1.6963e+00],\n",
       "         [-1.7020e+00, -4.9911e-01, -3.6487e-01, ..., -6.4715e+00,\n",
       "          -1.1974e+00,  1.3165e+00]],\n",
       "\n",
       "        [[-6.9243e+00, -5.8669e+00, -1.1039e+01, ..., -2.7089e+01,\n",
       "          -1.7197e+01, -7.8003e+00],\n",
       "         [-6.8379e+00, -5.6905e+00, -1.0797e+01, ..., -2.6860e+01,\n",
       "          -1.6560e+01, -8.0909e+00],\n",
       "         [-6.7973e+00, -5.5644e+00, -1.0660e+01, ..., -2.6802e+01,\n",
       "          -1.6278e+01, -8.5726e+00],\n",
       "         ...,\n",
       "         [-5.1418e-01,  3.6740e-01, -5.9647e-01, ..., -5.4011e+00,\n",
       "          -8.3482e-01,  2.2248e+00],\n",
       "         [-1.1837e+00,  5.8716e-02, -7.0003e-01, ..., -5.8434e+00,\n",
       "          -7.5473e-01,  1.3603e+00],\n",
       "         [-2.0270e+00, -3.3881e-01, -6.5416e-01, ..., -6.4213e+00,\n",
       "          -7.3862e-01,  6.1159e-01]],\n",
       "\n",
       "        [[-6.2534e+00, -3.7471e+00, -9.1439e+00, ..., -2.4317e+01,\n",
       "          -1.5719e+01, -6.7058e+00],\n",
       "         [-6.1703e+00, -3.5462e+00, -9.0652e+00, ..., -2.3770e+01,\n",
       "          -1.3809e+01, -6.5049e+00],\n",
       "         [-6.3449e+00, -3.5729e+00, -9.2646e+00, ..., -2.4085e+01,\n",
       "          -1.3142e+01, -6.9966e+00],\n",
       "         ...,\n",
       "         [ 1.7197e-02,  9.8732e-01,  1.7442e+00, ..., -2.5961e+00,\n",
       "           1.0337e+00,  5.3406e+00],\n",
       "         [-1.0183e+00,  4.3275e-01,  1.2696e+00, ..., -3.8512e+00,\n",
       "           6.2959e-01,  3.8534e+00],\n",
       "         [-1.9069e+00, -6.3873e-02,  9.1621e-01, ..., -5.0373e+00,\n",
       "           1.3499e-01,  2.5889e+00]],\n",
       "\n",
       "        ...,\n",
       "\n",
       "        [[-4.1608e-01, -4.9484e-01, -2.2223e-01, ..., -3.6629e+00,\n",
       "          -2.4083e+00, -1.3309e+00],\n",
       "         [-7.2064e-01, -8.9447e-01, -7.2226e-01, ..., -3.7811e+00,\n",
       "          -2.6170e+00, -1.4531e+00],\n",
       "         [-1.2364e+00, -1.1757e+00, -1.2343e+00, ..., -4.0040e+00,\n",
       "          -2.9972e+00, -1.8986e+00],\n",
       "         ...,\n",
       "         [-3.0283e-01,  4.3906e-01,  1.1722e-01, ..., -4.2111e+00,\n",
       "          -3.0854e+00, -1.5724e+00],\n",
       "         [-2.9507e-01,  5.8051e-01,  1.9797e-01, ..., -4.3333e+00,\n",
       "          -3.2067e+00, -1.7292e+00],\n",
       "         [-1.9962e-01,  6.6635e-01,  1.7609e-01, ..., -4.4459e+00,\n",
       "          -3.3122e+00, -1.8086e+00]],\n",
       "\n",
       "        [[-4.9957e-01, -7.4258e-01, -6.5793e-01, ..., -3.3865e+00,\n",
       "          -2.5426e+00, -1.4231e+00],\n",
       "         [-7.7722e-01, -9.4189e-01, -9.9493e-01, ..., -3.5459e+00,\n",
       "          -2.7276e+00, -1.6876e+00],\n",
       "         [-1.0876e+00, -1.0847e+00, -1.3101e+00, ..., -3.6651e+00,\n",
       "          -2.8965e+00, -1.9718e+00],\n",
       "         ...,\n",
       "         [-1.8124e-01,  6.6296e-01,  3.2394e-01, ..., -4.0843e+00,\n",
       "          -2.9894e+00, -1.6808e+00],\n",
       "         [-1.0965e-01,  7.5363e-01,  4.0134e-01, ..., -4.3170e+00,\n",
       "          -3.2223e+00, -1.8750e+00],\n",
       "         [-7.5897e-02,  7.5143e-01,  3.0197e-01, ..., -4.5820e+00,\n",
       "          -3.4541e+00, -2.0672e+00]],\n",
       "\n",
       "        [[-6.6293e-01, -7.9767e-01, -8.9044e-01, ..., -2.8792e+00,\n",
       "          -2.3200e+00, -1.3894e+00],\n",
       "         [-8.9417e-01, -8.7244e-01, -1.1191e+00, ..., -3.0805e+00,\n",
       "          -2.5124e+00, -1.6425e+00],\n",
       "         [-1.0204e+00, -8.2950e-01, -1.1982e+00, ..., -3.1275e+00,\n",
       "          -2.5924e+00, -1.7467e+00],\n",
       "         ...,\n",
       "         [-1.9690e-01,  6.6046e-01,  4.8611e-01, ..., -3.9029e+00,\n",
       "          -2.9084e+00, -1.7791e+00],\n",
       "         [-1.2476e-01,  6.9513e-01,  5.3979e-01, ..., -4.0121e+00,\n",
       "          -3.1007e+00, -1.9144e+00],\n",
       "         [-1.0468e-01,  6.5204e-01,  5.1538e-01, ..., -4.2303e+00,\n",
       "          -3.2869e+00, -2.0056e+00]]],\n",
       "\n",
       "\n",
       "       [[[ 1.9261e+00,  1.5988e+00, -2.7557e+00, ..., -1.3538e+01,\n",
       "          -5.4688e+00,  3.0498e-01],\n",
       "         [ 1.3442e+00,  1.3245e+00, -2.9496e+00, ..., -1.3482e+01,\n",
       "          -5.9148e+00, -2.9088e-01],\n",
       "         [ 8.3327e-01,  1.0999e+00, -3.1412e+00, ..., -1.3455e+01,\n",
       "          -6.4488e+00, -8.6458e-01],\n",
       "         ...,\n",
       "         [ 7.7361e-01,  1.9763e+00,  1.6408e+00, ..., -4.3587e+00,\n",
       "           8.7401e-01,  4.0629e+00],\n",
       "         [ 6.7909e-01,  1.7649e+00,  1.6522e+00, ..., -4.3030e+00,\n",
       "           8.3243e-01,  3.7432e+00],\n",
       "         [ 1.7390e-01,  1.3768e+00,  1.5110e+00, ..., -4.5957e+00,\n",
       "           6.7851e-01,  3.1924e+00]],\n",
       "\n",
       "        [[ 1.7982e+00,  2.8557e+00, -2.3162e+00, ..., -1.8367e+01,\n",
       "          -8.4741e+00,  9.2227e-01],\n",
       "         [ 1.3841e+00,  2.5315e+00, -2.5748e+00, ..., -1.8638e+01,\n",
       "          -8.3378e+00,  1.3115e-01],\n",
       "         [ 1.0814e+00,  2.3143e+00, -2.7818e+00, ..., -1.8923e+01,\n",
       "          -8.3997e+00, -6.9394e-01],\n",
       "         ...,\n",
       "         [ 2.0882e+00,  2.9698e+00,  2.0060e+00, ..., -2.7987e+00,\n",
       "           1.7676e+00,  4.8272e+00],\n",
       "         [ 1.3310e+00,  2.5734e+00,  1.8147e+00, ..., -3.3287e+00,\n",
       "           1.7599e+00,  3.8750e+00],\n",
       "         [ 1.5625e-02,  1.7038e+00,  1.3884e+00, ..., -4.3787e+00,\n",
       "           1.3040e+00,  2.6542e+00]],\n",
       "\n",
       "        [[ 1.7027e+00,  4.2090e+00, -1.1878e+00, ..., -1.6361e+01,\n",
       "          -7.7625e+00,  1.2504e+00],\n",
       "         [ 1.3678e+00,  3.9920e+00, -1.5271e+00, ..., -1.6232e+01,\n",
       "          -6.2710e+00,  1.0332e+00],\n",
       "         [ 1.1012e+00,  3.8732e+00, -1.8185e+00, ..., -1.6639e+01,\n",
       "          -5.6962e+00,  4.4954e-01],\n",
       "         ...,\n",
       "         [-8.9000e-01,  8.0124e-02,  8.3705e-01, ..., -3.5033e+00,\n",
       "           1.2651e-01,  4.4334e+00],\n",
       "         [-1.6952e+00, -2.4414e-01,  5.9274e-01, ..., -4.5281e+00,\n",
       "          -4.7302e-02,  3.1765e+00],\n",
       "         [-2.5521e+00, -7.0908e-01,  2.7101e-01, ..., -5.6825e+00,\n",
       "          -5.1021e-01,  1.9437e+00]],\n",
       "\n",
       "        ...,\n",
       "\n",
       "        [[-5.1083e-01, -5.8960e-01, -3.1699e-01, ..., -3.7577e+00,\n",
       "          -2.5030e+00, -1.4256e+00],\n",
       "         [-3.6423e-01, -5.3806e-01, -3.6584e-01, ..., -3.4247e+00,\n",
       "          -2.2606e+00, -1.0967e+00],\n",
       "         [-4.1187e-01, -3.5110e-01, -4.0970e-01, ..., -3.1794e+00,\n",
       "          -2.1726e+00, -1.0741e+00],\n",
       "         ...,\n",
       "         [ 2.4121e-01,  9.8309e-01,  6.6125e-01, ..., -3.6670e+00,\n",
       "          -2.5413e+00, -1.0284e+00],\n",
       "         [ 3.6008e-01,  1.2357e+00,  8.5312e-01, ..., -3.6782e+00,\n",
       "          -2.5515e+00, -1.0741e+00],\n",
       "         [ 6.0788e-01,  1.4738e+00,  9.8358e-01, ..., -3.6384e+00,\n",
       "          -2.5047e+00, -1.0011e+00]],\n",
       "\n",
       "        [[-1.9336e-01, -4.3637e-01, -3.5172e-01, ..., -3.0803e+00,\n",
       "          -2.2364e+00, -1.1169e+00],\n",
       "         [-2.1005e-01, -3.7473e-01, -4.2776e-01, ..., -2.9787e+00,\n",
       "          -2.1604e+00, -1.1205e+00],\n",
       "         [-2.1268e-01, -2.0975e-01, -4.3515e-01, ..., -2.7901e+00,\n",
       "          -2.0216e+00, -1.0968e+00],\n",
       "         ...,\n",
       "         [ 3.0988e-01,  1.1541e+00,  8.1506e-01, ..., -3.5932e+00,\n",
       "          -2.4983e+00, -1.1897e+00],\n",
       "         [ 4.1080e-01,  1.2741e+00,  9.2178e-01, ..., -3.7966e+00,\n",
       "          -2.7018e+00, -1.3545e+00],\n",
       "         [ 6.7200e-01,  1.4993e+00,  1.0499e+00, ..., -3.8341e+00,\n",
       "          -2.7062e+00, -1.3193e+00]],\n",
       "\n",
       "        [[-2.5757e-02, -1.6049e-01, -2.5327e-01, ..., -2.2421e+00,\n",
       "          -1.6829e+00, -7.5226e-01],\n",
       "         [-1.0339e-01, -8.1665e-02, -3.2837e-01, ..., -2.2898e+00,\n",
       "          -1.7216e+00, -8.5178e-01],\n",
       "         [-1.4511e-01,  4.5807e-02, -3.2285e-01, ..., -2.2522e+00,\n",
       "          -1.7171e+00, -8.7143e-01],\n",
       "         ...,\n",
       "         [ 2.3593e-01,  1.0933e+00,  9.1895e-01, ..., -3.4701e+00,\n",
       "          -2.4755e+00, -1.3463e+00],\n",
       "         [ 2.8470e-01,  1.1046e+00,  9.4925e-01, ..., -3.6027e+00,\n",
       "          -2.6913e+00, -1.5049e+00],\n",
       "         [ 3.2516e-01,  1.0819e+00,  9.4522e-01, ..., -3.8004e+00,\n",
       "          -2.8571e+00, -1.5758e+00]]],\n",
       "\n",
       "\n",
       "       ...,\n",
       "\n",
       "\n",
       "       [[[ 1.5365e+01,  1.5038e+01,  1.0684e+01, ..., -9.8480e-02,\n",
       "           7.9705e+00,  1.3744e+01],\n",
       "         [ 1.4415e+01,  1.4395e+01,  1.0121e+01, ..., -4.1196e-01,\n",
       "           7.1558e+00,  1.2780e+01],\n",
       "         [ 1.3657e+01,  1.3924e+01,  9.6827e+00, ..., -6.3150e-01,\n",
       "           6.3752e+00,  1.1959e+01],\n",
       "         ...,\n",
       "         [ 5.2122e+00,  6.4149e+00,  6.0794e+00, ...,  7.9895e-02,\n",
       "           5.3126e+00,  8.5015e+00],\n",
       "         [ 5.4209e+00,  6.5068e+00,  6.3940e+00, ...,  4.3889e-01,\n",
       "           5.5743e+00,  8.4850e+00],\n",
       "         [ 5.5579e+00,  6.7608e+00,  6.8950e+00, ...,  7.8835e-01,\n",
       "           6.0625e+00,  8.5764e+00]],\n",
       "\n",
       "        [[ 1.9892e+01,  2.0950e+01,  1.5778e+01, ..., -2.7280e-01,\n",
       "           9.6199e+00,  1.9016e+01],\n",
       "         [ 1.9515e+01,  2.0662e+01,  1.5556e+01, ..., -5.0754e-01,\n",
       "           9.7927e+00,  1.8262e+01],\n",
       "         [ 1.9394e+01,  2.0627e+01,  1.5531e+01, ..., -6.1053e-01,\n",
       "           9.9128e+00,  1.7619e+01],\n",
       "         ...,\n",
       "         [ 5.2186e+00,  6.1002e+00,  5.1363e+00, ...,  3.3171e-01,\n",
       "           4.8980e+00,  7.9576e+00],\n",
       "         [ 5.4364e+00,  6.6788e+00,  5.9201e+00, ...,  7.7672e-01,\n",
       "           5.8654e+00,  7.9804e+00],\n",
       "         [ 5.4854e+00,  7.1735e+00,  6.8582e+00, ...,  1.0911e+00,\n",
       "           6.7737e+00,  8.1239e+00]],\n",
       "\n",
       "        [[ 1.6613e+01,  1.9119e+01,  1.3722e+01, ..., -1.4505e+00,\n",
       "           7.1475e+00,  1.6160e+01],\n",
       "         [ 1.5918e+01,  1.8542e+01,  1.3023e+01, ..., -1.6815e+00,\n",
       "           8.2790e+00,  1.5583e+01],\n",
       "         [ 1.5964e+01,  1.8736e+01,  1.3044e+01, ..., -1.7763e+00,\n",
       "           9.1667e+00,  1.5312e+01],\n",
       "         ...,\n",
       "         [ 2.8860e+00,  3.8561e+00,  4.6130e+00, ...,  2.7269e-01,\n",
       "           3.9025e+00,  8.2094e+00],\n",
       "         [ 3.4707e+00,  4.9218e+00,  5.7587e+00, ...,  6.3788e-01,\n",
       "           5.1187e+00,  8.3424e+00],\n",
       "         [ 3.9473e+00,  5.7904e+00,  6.7705e+00, ...,  8.1699e-01,\n",
       "           5.9893e+00,  8.4432e+00]],\n",
       "\n",
       "        ...,\n",
       "\n",
       "        [[ 3.8287e+00,  3.7499e+00,  4.0226e+00, ...,  5.8188e-01,\n",
       "           1.8365e+00,  2.9139e+00],\n",
       "         [ 3.5683e+00,  3.3945e+00,  3.5667e+00, ...,  5.0790e-01,\n",
       "           1.6720e+00,  2.8359e+00],\n",
       "         [ 3.1929e+00,  3.2537e+00,  3.1951e+00, ...,  4.2535e-01,\n",
       "           1.4322e+00,  2.5307e+00],\n",
       "         ...,\n",
       "         [ 3.9740e+00,  4.7159e+00,  4.3940e+00, ...,  6.5735e-02,\n",
       "           1.1914e+00,  2.7044e+00],\n",
       "         [ 4.1067e+00,  4.9823e+00,  4.5997e+00, ...,  6.8420e-02,\n",
       "           1.1951e+00,  2.6725e+00],\n",
       "         [ 4.2954e+00,  5.1613e+00,  4.6711e+00, ...,  4.9133e-02,\n",
       "           1.1828e+00,  2.6864e+00]],\n",
       "\n",
       "        [[ 3.5231e+00,  3.2801e+00,  3.3647e+00, ...,  6.3617e-01,\n",
       "           1.4800e+00,  2.5996e+00],\n",
       "         [ 3.3863e+00,  3.2216e+00,  3.1686e+00, ...,  6.1765e-01,\n",
       "           1.4359e+00,  2.4759e+00],\n",
       "         [ 3.0776e+00,  3.0806e+00,  2.8552e+00, ...,  5.0018e-01,\n",
       "           1.2687e+00,  2.1935e+00],\n",
       "         ...,\n",
       "         [ 3.9249e+00,  4.7691e+00,  4.4301e+00, ...,  2.1851e-02,\n",
       "           1.1168e+00,  2.4253e+00],\n",
       "         [ 4.2417e+00,  5.1050e+00,  4.7527e+00, ...,  3.4302e-02,\n",
       "           1.1291e+00,  2.4764e+00],\n",
       "         [ 4.5323e+00,  5.3596e+00,  4.9102e+00, ...,  2.6154e-02,\n",
       "           1.1541e+00,  2.5410e+00]],\n",
       "\n",
       "        [[ 2.7305e+00,  2.5958e+00,  2.5030e+00, ...,  5.1422e-01,\n",
       "           1.0734e+00,  2.0040e+00],\n",
       "         [ 2.6833e+00,  2.7051e+00,  2.4584e+00, ...,  4.9698e-01,\n",
       "           1.0651e+00,  1.9350e+00],\n",
       "         [ 2.5546e+00,  2.7455e+00,  2.3768e+00, ...,  4.4751e-01,\n",
       "           9.8260e-01,  1.8282e+00],\n",
       "         ...,\n",
       "         [ 3.7013e+00,  4.5586e+00,  4.3843e+00, ..., -4.7302e-03,\n",
       "           9.8981e-01,  2.1190e+00],\n",
       "         [ 3.8661e+00,  4.6860e+00,  4.5307e+00, ..., -2.1271e-02,\n",
       "           8.9014e-01,  2.0765e+00],\n",
       "         [ 4.1142e+00,  4.8709e+00,  4.7343e+00, ..., -1.1414e-02,\n",
       "           9.3195e-01,  2.2133e+00]]],\n",
       "\n",
       "\n",
       "       [[[ 8.8701e+00,  8.5427e+00,  4.1883e+00, ..., -6.5939e+00,\n",
       "           1.4751e+00,  7.2489e+00],\n",
       "         [ 8.5680e+00,  8.5484e+00,  4.2743e+00, ..., -6.2586e+00,\n",
       "           1.3091e+00,  6.9330e+00],\n",
       "         [ 8.5399e+00,  8.8066e+00,  4.5654e+00, ..., -5.7488e+00,\n",
       "           1.2579e+00,  6.8421e+00],\n",
       "         ...,\n",
       "         [ 3.1870e+00,  4.3896e+00,  4.0541e+00, ..., -1.9454e+00,\n",
       "           3.2874e+00,  6.4762e+00],\n",
       "         [ 2.8713e+00,  3.9571e+00,  3.8443e+00, ..., -2.1108e+00,\n",
       "           3.0246e+00,  5.9354e+00],\n",
       "         [ 2.3843e+00,  3.5872e+00,  3.7214e+00, ..., -2.3853e+00,\n",
       "           2.8889e+00,  5.4028e+00]],\n",
       "\n",
       "        [[ 1.0764e+01,  1.1821e+01,  6.6495e+00, ..., -9.4010e+00,\n",
       "           4.9167e-01,  9.8880e+00],\n",
       "         [ 9.7616e+00,  1.0909e+01,  5.8026e+00, ..., -1.0261e+01,\n",
       "           3.9612e-02,  8.5086e+00],\n",
       "         [ 9.3230e+00,  1.0556e+01,  5.4599e+00, ..., -1.0681e+01,\n",
       "          -1.5811e-01,  7.5477e+00],\n",
       "         ...,\n",
       "         [ 3.9611e+00,  4.8427e+00,  3.8788e+00, ..., -9.2578e-01,\n",
       "           3.6405e+00,  6.7001e+00],\n",
       "         [ 3.3609e+00,  4.6033e+00,  3.8445e+00, ..., -1.2988e+00,\n",
       "           3.7898e+00,  5.9048e+00],\n",
       "         [ 2.6454e+00,  4.3336e+00,  4.0182e+00, ..., -1.7489e+00,\n",
       "           3.9338e+00,  5.2840e+00]],\n",
       "\n",
       "        [[ 1.0078e+01,  1.2584e+01,  7.1874e+00, ..., -7.9853e+00,\n",
       "           6.1267e-01,  9.6255e+00],\n",
       "         [ 7.9817e+00,  1.0606e+01,  5.0868e+00, ..., -9.6177e+00,\n",
       "           3.4286e-01,  7.6471e+00],\n",
       "         [ 6.9783e+00,  9.7503e+00,  4.0586e+00, ..., -1.0762e+01,\n",
       "           1.8088e-01,  6.3266e+00],\n",
       "         ...,\n",
       "         [ 3.7107e+00,  4.6809e+00,  5.4378e+00, ...,  1.0974e+00,\n",
       "           4.7272e+00,  9.0341e+00],\n",
       "         [ 3.1606e+00,  4.6116e+00,  5.4485e+00, ...,  3.2771e-01,\n",
       "           4.8085e+00,  8.0323e+00],\n",
       "         [ 2.6488e+00,  4.4918e+00,  5.4719e+00, ..., -4.8158e-01,\n",
       "           4.6907e+00,  7.1446e+00]],\n",
       "\n",
       "        ...,\n",
       "\n",
       "        [[ 2.1987e+00,  2.1200e+00,  2.3926e+00, ..., -1.0481e+00,\n",
       "           2.0654e-01,  1.2839e+00],\n",
       "         [ 2.1059e+00,  1.9321e+00,  2.1043e+00, ..., -9.5450e-01,\n",
       "           2.0956e-01,  1.3735e+00],\n",
       "         [ 1.9951e+00,  2.0558e+00,  1.9973e+00, ..., -7.7249e-01,\n",
       "           2.3434e-01,  1.3329e+00],\n",
       "         ...,\n",
       "         [ 2.8254e+00,  3.5673e+00,  3.2455e+00, ..., -1.0828e+00,\n",
       "           4.2908e-02,  1.5558e+00],\n",
       "         [ 3.0030e+00,  3.8786e+00,  3.4961e+00, ..., -1.0352e+00,\n",
       "           9.1431e-02,  1.5689e+00],\n",
       "         [ 3.0970e+00,  3.9630e+00,  3.4727e+00, ..., -1.1492e+00,\n",
       "          -1.5594e-02,  1.4880e+00]],\n",
       "\n",
       "        [[ 2.4203e+00,  2.1772e+00,  2.2619e+00, ..., -4.6667e-01,\n",
       "           3.7720e-01,  1.4967e+00],\n",
       "         [ 2.3420e+00,  2.1773e+00,  2.1243e+00, ..., -4.2664e-01,\n",
       "           3.9166e-01,  1.4316e+00],\n",
       "         [ 2.1113e+00,  2.1143e+00,  1.8889e+00, ..., -4.6613e-01,\n",
       "           3.0243e-01,  1.2272e+00],\n",
       "         ...,\n",
       "         [ 2.7481e+00,  3.5923e+00,  3.2533e+00, ..., -1.1550e+00,\n",
       "          -6.0059e-02,  1.2485e+00],\n",
       "         [ 3.1398e+00,  4.0031e+00,  3.6508e+00, ..., -1.0676e+00,\n",
       "           2.7161e-02,  1.3745e+00],\n",
       "         [ 3.3555e+00,  4.1828e+00,  3.7334e+00, ..., -1.1506e+00,\n",
       "          -2.2736e-02,  1.3642e+00]],\n",
       "\n",
       "        [[ 2.0191e+00,  1.8844e+00,  1.7916e+00, ..., -1.9720e-01,\n",
       "           3.6200e-01,  1.2926e+00],\n",
       "         [ 1.9793e+00,  2.0010e+00,  1.7543e+00, ..., -2.0709e-01,\n",
       "           3.6102e-01,  1.2309e+00],\n",
       "         [ 1.8466e+00,  2.0376e+00,  1.6689e+00, ..., -2.6041e-01,\n",
       "           2.7469e-01,  1.1203e+00],\n",
       "         ...,\n",
       "         [ 2.6982e+00,  3.5556e+00,  3.3813e+00, ..., -1.0078e+00,\n",
       "          -1.3214e-02,  1.1160e+00],\n",
       "         [ 2.9660e+00,  3.7859e+00,  3.6305e+00, ..., -9.2142e-01,\n",
       "          -1.0010e-02,  1.1764e+00],\n",
       "         [ 3.1436e+00,  3.9003e+00,  3.7637e+00, ..., -9.8199e-01,\n",
       "          -3.8635e-02,  1.2427e+00]]],\n",
       "\n",
       "\n",
       "       [[[ 4.5186e-01,  1.2450e-01, -4.2299e+00, ..., -1.5012e+01,\n",
       "          -6.9431e+00, -1.1693e+00],\n",
       "         [ 5.0316e-01,  4.8347e-01, -3.7906e+00, ..., -1.4324e+01,\n",
       "          -6.7558e+00, -1.1319e+00],\n",
       "         [ 5.5414e-01,  8.2080e-01, -3.4203e+00, ..., -1.3735e+01,\n",
       "          -6.7279e+00, -1.1437e+00],\n",
       "         ...,\n",
       "         [-2.9900e+00, -1.7874e+00, -2.1228e+00, ..., -8.1223e+00,\n",
       "          -2.8896e+00,  2.9922e-01],\n",
       "         [-3.0057e+00, -1.9198e+00, -2.0326e+00, ..., -7.9877e+00,\n",
       "          -2.8523e+00,  5.8441e-02],\n",
       "         [-3.3648e+00, -2.1620e+00, -2.0277e+00, ..., -8.1344e+00,\n",
       "          -2.8602e+00, -3.4636e-01]],\n",
       "\n",
       "        [[-1.1274e+00, -6.9962e-02, -5.2419e+00, ..., -2.1292e+01,\n",
       "          -1.1400e+01, -2.0034e+00],\n",
       "         [-6.0657e-01,  5.4083e-01, -4.5655e+00, ..., -2.0629e+01,\n",
       "          -1.0329e+01, -1.8596e+00],\n",
       "         [ 3.4164e-02,  1.2670e+00, -3.8290e+00, ..., -1.9970e+01,\n",
       "          -9.4470e+00, -1.7412e+00],\n",
       "         ...,\n",
       "         [-2.9099e+00, -2.0283e+00, -2.9922e+00, ..., -7.7968e+00,\n",
       "          -3.2305e+00, -1.7087e-01],\n",
       "         [-3.1863e+00, -1.9439e+00, -2.7026e+00, ..., -7.8460e+00,\n",
       "          -2.7573e+00, -6.4233e-01],\n",
       "         [-3.7843e+00, -2.0961e+00, -2.4115e+00, ..., -8.1786e+00,\n",
       "          -2.4959e+00, -1.1457e+00]],\n",
       "\n",
       "        [[-1.6081e+00,  8.9821e-01, -4.4986e+00, ..., -1.9671e+01,\n",
       "          -1.1073e+01, -2.0605e+00],\n",
       "         [-1.6113e+00,  1.0129e+00, -4.5062e+00, ..., -1.9211e+01,\n",
       "          -9.2501e+00, -1.9459e+00],\n",
       "         [-1.1392e+00,  1.6328e+00, -4.0589e+00, ..., -1.8880e+01,\n",
       "          -7.9366e+00, -1.7909e+00],\n",
       "         ...,\n",
       "         [-5.6956e+00, -4.7255e+00, -3.9686e+00, ..., -8.3089e+00,\n",
       "          -4.6791e+00, -3.7222e-01],\n",
       "         [-5.5470e+00, -4.0959e+00, -3.2590e+00, ..., -8.3799e+00,\n",
       "          -3.8991e+00, -6.7531e-01],\n",
       "         [-5.3389e+00, -3.4958e+00, -2.5157e+00, ..., -8.4692e+00,\n",
       "          -3.2969e+00, -8.4299e-01]],\n",
       "\n",
       "        ...,\n",
       "\n",
       "        [[ 5.9888e-01,  5.2011e-01,  7.9272e-01, ..., -2.6479e+00,\n",
       "          -1.3933e+00, -3.1592e-01],\n",
       "         [ 4.4727e-01,  2.7344e-01,  4.4565e-01, ..., -2.6132e+00,\n",
       "          -1.4491e+00, -2.8519e-01],\n",
       "         [ 5.3137e-01,  5.9213e-01,  5.3354e-01, ..., -2.2362e+00,\n",
       "          -1.2294e+00, -1.3083e-01],\n",
       "         ...,\n",
       "         [ 1.3419e+00,  2.0838e+00,  1.7619e+00, ..., -2.5663e+00,\n",
       "          -1.4406e+00,  7.2296e-02],\n",
       "         [ 1.5604e+00,  2.4359e+00,  2.0534e+00, ..., -2.4779e+00,\n",
       "          -1.3512e+00,  1.2622e-01],\n",
       "         [ 1.7643e+00,  2.6302e+00,  2.1400e+00, ..., -2.4820e+00,\n",
       "          -1.3483e+00,  1.5527e-01]],\n",
       "\n",
       "        [[ 9.0128e-01,  6.5826e-01,  7.4292e-01, ..., -1.9857e+00,\n",
       "          -1.1418e+00, -2.2247e-02],\n",
       "         [ 9.6628e-01,  8.0161e-01,  7.4857e-01, ..., -1.8024e+00,\n",
       "          -9.8407e-01,  5.5878e-02],\n",
       "         [ 1.0217e+00,  1.0246e+00,  7.9919e-01, ..., -1.5558e+00,\n",
       "          -7.8723e-01,  1.3751e-01],\n",
       "         ...,\n",
       "         [ 1.5965e+00,  2.4407e+00,  2.1017e+00, ..., -2.3066e+00,\n",
       "          -1.2117e+00,  9.6893e-02],\n",
       "         [ 1.9770e+00,  2.8403e+00,  2.4880e+00, ..., -2.2304e+00,\n",
       "          -1.1357e+00,  2.1167e-01],\n",
       "         [ 2.1990e+00,  3.0263e+00,  2.5769e+00, ..., -2.3071e+00,\n",
       "          -1.1792e+00,  2.0767e-01]],\n",
       "\n",
       "        [[ 8.9297e-01,  7.5824e-01,  6.6547e-01, ..., -1.3233e+00,\n",
       "          -7.6413e-01,  1.6647e-01],\n",
       "         [ 9.8776e-01,  1.0095e+00,  7.6279e-01, ..., -1.1986e+00,\n",
       "          -6.3049e-01,  2.3938e-01],\n",
       "         [ 1.0105e+00,  1.2014e+00,  8.3276e-01, ..., -1.0966e+00,\n",
       "          -5.6146e-01,  2.8418e-01],\n",
       "         ...,\n",
       "         [ 1.6795e+00,  2.5369e+00,  2.3625e+00, ..., -2.0265e+00,\n",
       "          -1.0320e+00,  9.7290e-02],\n",
       "         [ 1.9475e+00,  2.7674e+00,  2.6120e+00, ..., -1.9399e+00,\n",
       "          -1.0285e+00,  1.5787e-01],\n",
       "         [ 2.0736e+00,  2.8304e+00,  2.6937e+00, ..., -2.0520e+00,\n",
       "          -1.1086e+00,  1.7270e-01]]]], dtype=float32)\n",
       "Coordinates:\n",
       "  * time     (time) datetime64[ns] 2013-01-01 2013-02-01 ... 2014-12-01\n",
       "  * lat      (lat) float32 75.0 72.5 70.0 67.5 65.0 ... 25.0 22.5 20.0 17.5 15.0\n",
       "  * lon      (lon) float32 200.0 202.5 205.0 207.5 ... 322.5 325.0 327.5 330.0\n",
       "  * month    (month) int64 1 2 3 4 5 6 7 8 9 10 11 12"
      ]
     },
     "execution_count": 48,
     "metadata": {},
     "output_type": "execute_result"
    }
   ],
   "source": [
    "# resample data to monthly means\n",
    "da_month = da.resample(time='MS').mean('time')\n",
    "\n",
    "da_climo = da_month.groupby('time.month').mean('time')\n",
    "\n",
    "# remove the monthly climotology\n",
    "da_no_climo = da_month - da_climo\n",
    "da_no_climo"
   ]
  },
  {
   "cell_type": "code",
   "execution_count": 51,
   "metadata": {
    "slideshow": {
     "slide_type": "subslide"
    }
   },
   "outputs": [
    {
     "data": {
      "text/plain": [
       "<xarray.plot.facetgrid.FacetGrid at 0x13687e6a0>"
      ]
     },
     "execution_count": 51,
     "metadata": {},
     "output_type": "execute_result"
    },
    {
     "data": {
      "image/png": "[encoded data removed]",
      "text/plain": [
       "<Figure size 1368x432 with 13 Axes>"
      ]
     },
     "metadata": {
      "needs_background": "light"
     },
     "output_type": "display_data"
    }
   ],
   "source": [
    "# integrated plotting\n",
    "da_climo.plot(col='month', col_wrap=6, robust=True)"
   ]
  },
  {
   "attachments": {},
   "cell_type": "markdown",
   "metadata": {
    "slideshow": {
     "slide_type": "slide"
    }
   },
   "source": [
    "## Dask\n",
    "\n",
    "<img src=\"https://dask.readthedocs.io/en/latest/_images/dask_horizontal.svg\" align=\"right\" width=50% alt=\"Dask Logo\">\n",
    "\n",
    "Dask is a flexible parallel computing library for analytic computing. Dask provides dynamic parallel task scheduling and high-level big-data collections like dask.array and dask.dataframe.\n",
    "\n",
    "- Dask Array implements a subset of the NumPy ndarray interface using blocked algorithms, cutting up the large array into many small arrays.\n",
    "- Tools like Xarray and Iris use Dask arrays under-the-hood\n",
    "- Dask can be deployed on a local computer, HPC, or the Cloud"
   ]
  },
  {
   "cell_type": "markdown",
   "metadata": {
    "slideshow": {
     "slide_type": "subslide"
    }
   },
   "source": [
    "## Dask Arrays\n",
    "\n",
    "A dask array looks and feels a lot like a numpy array. However, a dask array doesn't directly hold any data. Instead, it symbolically represents the computations needed to generate the data. Nothing is actually computed until the actual numerical values are needed. This mode of operation is called \"lazy\"; it allows one to build up complex, large calculations symbolically before turning them over the scheduler for execution."
   ]
  },
  {
   "cell_type": "code",
   "execution_count": 52,
   "metadata": {
    "cell_style": "split",
    "slideshow": {
     "slide_type": "fragment"
    }
   },
   "outputs": [
    {
     "data": {
      "text/plain": [
       "array([[1., 1., 1., ..., 1., 1., 1.],\n",
       "       [1., 1., 1., ..., 1., 1., 1.],\n",
       "       [1., 1., 1., ..., 1., 1., 1.],\n",
       "       ...,\n",
       "       [1., 1., 1., ..., 1., 1., 1.],\n",
       "       [1., 1., 1., ..., 1., 1., 1.],\n",
       "       [1., 1., 1., ..., 1., 1., 1.]])"
      ]
     },
     "execution_count": 52,
     "metadata": {},
     "output_type": "execute_result"
    }
   ],
   "source": [
    "# Numpy\n",
    "import numpy as np\n",
    "shape = (1000, 4000)\n",
    "ones_np = np.ones(shape)\n",
    "ones_np"
   ]
  },
  {
   "cell_type": "code",
   "execution_count": 53,
   "metadata": {
    "cell_style": "split"
   },
   "outputs": [
    {
     "data": {
      "text/html": [
       "<table>\n",
       "<tr>\n",
       "<td>\n",
       "<table>\n",
       "  <thead>\n",
       "    <tr><td> </td><th> Array </th><th> Chunk </th></tr>\n",
       "  </thead>\n",
       "  <tbody>\n",
       "    <tr><th> Bytes </th><td> 32.00 MB </td> <td> 8.00 MB </td></tr>\n",
       "    <tr><th> Shape </th><td> (1000, 4000) </td> <td> (1000, 1000) </td></tr>\n",
       "    <tr><th> Count </th><td> 4 Tasks </td><td> 4 Chunks </td></tr>\n",
       "    <tr><th> Type </th><td> float64 </td><td> numpy.ndarray </td></tr>\n",
       "  </tbody>\n",
       "</table>\n",
       "</td>\n",
       "<td>\n",
       "<svg width=\"170\" height=\"92\" style=\"stroke:rgb(0,0,0);stroke-width:1\" >\n",
       "\n",
       "  <!-- Horizontal lines -->\n",
       "  <line x1=\"0\" y1=\"0\" x2=\"120\" y2=\"0\" style=\"stroke-width:2\" />\n",
       "  <line x1=\"0\" y1=\"42\" x2=\"120\" y2=\"42\" style=\"stroke-width:2\" />\n",
       "\n",
       "  <!-- Vertical lines -->\n",
       "  <line x1=\"0\" y1=\"0\" x2=\"0\" y2=\"42\" style=\"stroke-width:2\" />\n",
       "  <line x1=\"30\" y1=\"0\" x2=\"30\" y2=\"42\" />\n",
       "  <line x1=\"60\" y1=\"0\" x2=\"60\" y2=\"42\" />\n",
       "  <line x1=\"90\" y1=\"0\" x2=\"90\" y2=\"42\" />\n",
       "  <line x1=\"120\" y1=\"0\" x2=\"120\" y2=\"42\" style=\"stroke-width:2\" />\n",
       "\n",
       "  <!-- Colored Rectangle -->\n",
       "  <polygon points=\"0.000000,0.000000 120.000000,0.000000 120.000000,42.898796 0.000000,42.898796\" style=\"fill:#ECB172A0;stroke-width:0\"/>\n",
       "\n",
       "  <!-- Text -->\n",
       "  <text x=\"60.000000\" y=\"62.898796\" font-size=\"1.0rem\" font-weight=\"100\" text-anchor=\"middle\" >4000</text>\n",
       "  <text x=\"140.000000\" y=\"21.449398\" font-size=\"1.0rem\" font-weight=\"100\" text-anchor=\"middle\" transform=\"rotate(-90,140.000000,21.449398)\">1000</text>\n",
       "</svg>\n",
       "</td>\n",
       "</tr>\n",
       "</table>"
      ],
      "text/plain": [
       "dask.array<ones, shape=(1000, 4000), dtype=float64, chunksize=(1000, 1000), chunktype=numpy.ndarray>"
      ]
     },
     "execution_count": 53,
     "metadata": {},
     "output_type": "execute_result"
    }
   ],
   "source": [
    "# Dask\n",
    "import dask.array as da\n",
    "chunk_shape = (1000, 1000)\n",
    "ones = da.ones(shape, chunks=chunk_shape)\n",
    "ones"
   ]
  },
  {
   "cell_type": "markdown",
   "metadata": {
    "slideshow": {
     "slide_type": "subslide"
    }
   },
   "source": [
    "### Deploying Dask\n",
    "\n",
    "The Dask Schedulers orchestrate the tasks in the Task Graphs so that they can be run in parallel. How they run in parallel, though, is determined by which Scheduler you choose.\n",
    "\n",
    "There are 3 *local* schedulers:\n",
    "\n",
    "- **Single-Thread Local**: For debugging, profiling, and diagnosing issues\n",
    "- **Multi-threaded**: Using the Python built-in threading package (the default for all Dask operations except Bags)\n",
    "- **Multi-process**: Using the Python built-in multiprocessing package (the default for Dask Bags)\n",
    "\n",
    "and 1 distributed scheduler, which we will talk about later:\n",
    "\n",
    "- **Distributed**: Using the dask.distributed module (which uses tornado for TCP communication). The distributed scheduler uses a Cluster to manage communication between the scheduler and the \"workers\". This is described in the next section."
   ]
  },
  {
   "cell_type": "markdown",
   "metadata": {
    "slideshow": {
     "slide_type": "subslide"
    }
   },
   "source": [
    "### Distributed Clusters (http://distributed.dask.org/)¶\n",
    "Dask can be deployed on distributed infrastructure, such as a an HPC system or a cloud computing system.\n",
    "\n",
    "- LocalCluster - Creates a Cluster that can be executed locally. Each Cluster includes a Scheduler and Workers.\n",
    "- Client - Connects to and drives computation on a distributed Cluster\n",
    "\n",
    "#### Dask Jobqueue (http://jobqueue.dask.org/)\n",
    "- PBSCluster\n",
    "- SlurmCluster\n",
    "- LSFCluster\n",
    "- etc.\n",
    "\n",
    "#### Dask Kubernetes (http://kubernetes.dask.org/)\n",
    "KubeCluster"
   ]
  },
  {
   "cell_type": "markdown",
   "metadata": {
    "slideshow": {
     "slide_type": "slide"
    }
   },
   "source": [
    "## Vizualization"
   ]
  },
  {
   "cell_type": "markdown",
   "metadata": {
    "slideshow": {
     "slide_type": "slide"
    }
   },
   "source": [
    "## Data Catalogs"
   ]
  },
  {
   "cell_type": "code",
   "execution_count": null,
   "metadata": {},
   "outputs": [],
   "source": []
  }
 ],
 "metadata": {
  "celltoolbar": "Slideshow",
  "kernelspec": {
   "display_name": "Python 3",
   "language": "python",
   "name": "python3"
  },
  "language_info": {
   "codemirror_mode": {
    "name": "ipython",
    "version": 3
   },
   "file_extension": ".py",
   "mimetype": "text/x-python",
   "name": "python",
   "nbconvert_exporter": "python",
   "pygments_lexer": "ipython3",
   "version": "3.7.3"
  }
 },
 "nbformat": 4,
 "nbformat_minor": 2
}
